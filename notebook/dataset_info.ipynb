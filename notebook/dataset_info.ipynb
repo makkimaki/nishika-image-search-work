{
 "cells": [
  {
   "cell_type": "code",
   "execution_count": 2,
   "metadata": {},
   "outputs": [
    {
     "name": "stdout",
     "output_type": "stream",
     "text": [
      "/work/tutorial/notebooks\n",
      "['dataset_info.ipynb', 'tutorial_check_train_data.ipynb', '.DS_Store']\n"
     ]
    }
   ],
   "source": [
    "from glob import glob\n",
    "import os \n",
    "import sys\n",
    "sys.path.append(\"../\")\n",
    "print(os.getcwd())\n",
    "print(os.listdir())\n",
    "\n",
    "import cv2\n",
    "import japanize_matplotlib\n",
    "import matplotlib.pyplot as plt\n",
    "import numpy as np\n",
    "import pandas as pd\n",
    "from pathlib import Path"
   ]
  },
  {
   "cell_type": "code",
   "execution_count": 3,
   "metadata": {},
   "outputs": [],
   "source": [
    "dataset_base_path = Path(\"/dataset\")"
   ]
  },
  {
   "cell_type": "code",
   "execution_count": 4,
   "metadata": {},
   "outputs": [],
   "source": [
    "def read_img(path: Path):\n",
    "    img = cv2.imread(path)\n",
    "    img = cv2.cvtColor(img, cv2.COLOR_BGR2RGB)\n",
    "    return img\n",
    "\n",
    "def show_img(path: Path):\n",
    "    img = read_img(path)\n",
    "    plt.imshow(img)\n",
    "    plt.show()\n",
    "\n",
    "def show_img_pair(path1: Path, \n",
    "                  path2: Path):\n",
    "    plt.subplot(1, 2, 1)\n",
    "    img = read_img(path1)\n",
    "    plt.imshow(img)\n",
    "    plt.title(f\"出願: {os.path.basename(path1)}\", fontsize=12)\n",
    "    plt.xticks([])\n",
    "    plt.yticks([])\n",
    "\n",
    "    plt.subplot(1, 2, 2)\n",
    "    img = read_img(path2)\n",
    "    plt.imshow(img)\n",
    "    plt.title(f\"引用: {os.path.basename(path1)}\", fontsize=12)\n",
    "    plt.xticks([])\n",
    "    plt.yticks([])\n",
    "\n",
    "    plt.tight_layout()\n",
    "    plt.show()\n",
    "\n",
    "    "
   ]
  },
  {
   "cell_type": "code",
   "execution_count": null,
   "metadata": {},
   "outputs": [],
   "source": []
  }
 ],
 "metadata": {
  "interpreter": {
   "hash": "3a7195de7be901160b796cc9c91a6eaed018c6c8d9c43a1491a88ffd5f33a279"
  },
  "kernelspec": {
   "display_name": "Python 3.9.1 64-bit ('conda39': conda)",
   "language": "python",
   "name": "python3"
  },
  "language_info": {
   "codemirror_mode": {
    "name": "ipython",
    "version": 3
   },
   "file_extension": ".py",
   "mimetype": "text/x-python",
   "name": "python",
   "nbconvert_exporter": "python",
   "pygments_lexer": "ipython3",
   "version": "3.9.1"
  },
  "orig_nbformat": 4
 },
 "nbformat": 4,
 "nbformat_minor": 2
}
